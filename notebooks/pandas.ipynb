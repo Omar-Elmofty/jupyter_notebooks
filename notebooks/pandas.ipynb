{
 "cells": [
  {
   "cell_type": "markdown",
   "id": "7917c00c-0393-4044-97fa-f99fecb156c3",
   "metadata": {},
   "source": [
    "# Pandas\n",
    "Popular library for data manipulation. It uses numpy in the backend. It has 2 basic data structures:\n",
    "1. Series (built on top of numpy.ndarray), from [pandas.Series docs](https://pandas.pydata.org/docs/reference/api/pandas.Series.html):\n",
    "> One-dimensional ndarray with axis labels (including time series). Labels need not be unique but must be a hashable type. The object supports both integer and label-based indexing and provides a host of methods for performing operations involving the index. Statistical methods from ndarray have been overridden to automatically exclude missing data (currently represented as NaN).\n",
    "\n",
    "2. Dataframe (think of it as a dictionary of series objects), from the [pandas.DataFrame docs](https://pandas.pydata.org/docs/reference/api/pandas.DataFrame.html):\n",
    "> Two-dimensional, size-mutable, potentially heterogeneous tabular data.\n",
    "Data structure also contains labeled axes (rows and columns). Arithmetic operations align on both row and column labels. Can be thought of as a dict-like container for Series objects. The primary pandas data structure."
   ]
  },
  {
   "cell_type": "code",
   "execution_count": 63,
   "id": "f5b5c13e-3c5e-42b8-895e-07a2adbcba21",
   "metadata": {},
   "outputs": [],
   "source": [
    "import pandas as pd"
   ]
  },
  {
   "cell_type": "markdown",
   "id": "f04d3904-ff9a-4b13-8cfe-7bfc59ef55a3",
   "metadata": {},
   "source": [
    "# Series"
   ]
  },
  {
   "cell_type": "code",
   "execution_count": 15,
   "id": "0828c347-de8e-40f8-99a6-5d4c9d80dc44",
   "metadata": {},
   "outputs": [
    {
     "data": {
      "text/plain": [
       "0    1\n",
       "1    2\n",
       "2    3\n",
       "3    4\n",
       "dtype: int64"
      ]
     },
     "execution_count": 15,
     "metadata": {},
     "output_type": "execute_result"
    }
   ],
   "source": [
    "# Series from list\n",
    "data = [1, 2, 3, 4]\n",
    "pd.Series(data)"
   ]
  },
  {
   "cell_type": "code",
   "execution_count": 14,
   "id": "7f40c242-b00c-4917-a94e-0d56312f068f",
   "metadata": {},
   "outputs": [
    {
     "data": {
      "text/plain": [
       "a    1\n",
       "b    2\n",
       "c    3\n",
       "dtype: int64"
      ]
     },
     "execution_count": 14,
     "metadata": {},
     "output_type": "execute_result"
    }
   ],
   "source": [
    "# Series from dict\n",
    "data = {\"a\": 1, \"b\": 2, \"c\": 3}\n",
    "pd.Series(data)"
   ]
  },
  {
   "cell_type": "markdown",
   "id": "30bc9432-b0d5-433b-84f3-f9ee9c211679",
   "metadata": {},
   "source": [
    "Note how in the above example, the index became the dictionary key (the letters `a`, `b`, `c`)."
   ]
  },
  {
   "cell_type": "code",
   "execution_count": 13,
   "id": "39913a61-6043-4f48-9c2c-adb07348dff7",
   "metadata": {},
   "outputs": [
    {
     "data": {
      "text/plain": [
       "a       1\n",
       "b       2\n",
       "c    text\n",
       "dtype: object"
      ]
     },
     "execution_count": 13,
     "metadata": {},
     "output_type": "execute_result"
    }
   ],
   "source": [
    "# Series with varying data types\n",
    "data = {\"a\": 1, \"b\": 2, \"c\": \"text\"}\n",
    "pd.Series(data)"
   ]
  },
  {
   "cell_type": "markdown",
   "id": "437f99a1-3158-4488-83ca-407307fd8950",
   "metadata": {},
   "source": [
    "Note how in the above the `dtype` changed to object, that's because entries in the series are of different types, so pandas inferred that the dtype for the series should be object (which can support holding any type)."
   ]
  },
  {
   "cell_type": "code",
   "execution_count": 12,
   "id": "0d78fabd-0923-416e-9781-c05a44a80cfe",
   "metadata": {},
   "outputs": [
    {
     "data": {
      "text/plain": [
       "a    1\n",
       "b    2\n",
       "c    3\n",
       "dtype: int64"
      ]
     },
     "execution_count": 12,
     "metadata": {},
     "output_type": "execute_result"
    }
   ],
   "source": [
    "# Creating your own custom index\n",
    "data = [1, 2, 3]\n",
    "index = ['a', 'b', 'c']\n",
    "pd.Series(data, index=index)"
   ]
  },
  {
   "cell_type": "markdown",
   "id": "09fc4d98-e983-4b3d-be5a-934cc31dea94",
   "metadata": {},
   "source": [
    "# Dataframe\n",
    "## Creating the dataframe"
   ]
  },
  {
   "cell_type": "code",
   "execution_count": 17,
   "id": "243f3b51-ae7c-45e2-b701-e8160fdb2d90",
   "metadata": {},
   "outputs": [
    {
     "data": {
      "text/html": [
       "<div>\n",
       "<style scoped>\n",
       "    .dataframe tbody tr th:only-of-type {\n",
       "        vertical-align: middle;\n",
       "    }\n",
       "\n",
       "    .dataframe tbody tr th {\n",
       "        vertical-align: top;\n",
       "    }\n",
       "\n",
       "    .dataframe thead th {\n",
       "        text-align: right;\n",
       "    }\n",
       "</style>\n",
       "<table border=\"1\" class=\"dataframe\">\n",
       "  <thead>\n",
       "    <tr style=\"text-align: right;\">\n",
       "      <th></th>\n",
       "      <th>Name</th>\n",
       "      <th>Age</th>\n",
       "      <th>City</th>\n",
       "    </tr>\n",
       "  </thead>\n",
       "  <tbody>\n",
       "    <tr>\n",
       "      <th>0</th>\n",
       "      <td>omar</td>\n",
       "      <td>31</td>\n",
       "      <td>Toronto</td>\n",
       "    </tr>\n",
       "    <tr>\n",
       "      <th>1</th>\n",
       "      <td>serag</td>\n",
       "      <td>70</td>\n",
       "      <td>Cairo</td>\n",
       "    </tr>\n",
       "    <tr>\n",
       "      <th>2</th>\n",
       "      <td>mohamed</td>\n",
       "      <td>100</td>\n",
       "      <td>Algeria</td>\n",
       "    </tr>\n",
       "  </tbody>\n",
       "</table>\n",
       "</div>"
      ],
      "text/plain": [
       "      Name  Age     City\n",
       "0     omar   31  Toronto\n",
       "1    serag   70    Cairo\n",
       "2  mohamed  100  Algeria"
      ]
     },
     "execution_count": 17,
     "metadata": {},
     "output_type": "execute_result"
    }
   ],
   "source": [
    "# Create a dataframe from a dictionary of lists\n",
    "data = {\n",
    "    'Name': [\"omar\", \"serag\", \"mohamed\"],\n",
    "    'Age': [\"31\", \"70\", \"100\"],\n",
    "    'City': [\"Toronto\", \"Cairo\", \"Algeria\"]\n",
    "}\n",
    "\n",
    "df = pd.DataFrame(data)\n",
    "print(df)"
   ]
  },
  {
   "cell_type": "code",
   "execution_count": 20,
   "id": "e44382cb-844a-4e36-b39a-ac7ebe07535e",
   "metadata": {},
   "outputs": [
    {
     "data": {
      "text/plain": [
       "array([['omar', '31', 'Toronto'],\n",
       "       ['serag', '70', 'Cairo'],\n",
       "       ['mohamed', '100', 'Algeria']], dtype=object)"
      ]
     },
     "execution_count": 20,
     "metadata": {},
     "output_type": "execute_result"
    }
   ],
   "source": [
    "# Convert df into np array\n",
    "import numpy as np\n",
    "np.array(df)"
   ]
  },
  {
   "cell_type": "code",
   "execution_count": 26,
   "id": "04265971-d926-451c-8abe-43f7e1e06e9b",
   "metadata": {},
   "outputs": [
    {
     "data": {
      "text/html": [
       "<div>\n",
       "<style scoped>\n",
       "    .dataframe tbody tr th:only-of-type {\n",
       "        vertical-align: middle;\n",
       "    }\n",
       "\n",
       "    .dataframe tbody tr th {\n",
       "        vertical-align: top;\n",
       "    }\n",
       "\n",
       "    .dataframe thead th {\n",
       "        text-align: right;\n",
       "    }\n",
       "</style>\n",
       "<table border=\"1\" class=\"dataframe\">\n",
       "  <thead>\n",
       "    <tr style=\"text-align: right;\">\n",
       "      <th></th>\n",
       "      <th>Name</th>\n",
       "      <th>Age</th>\n",
       "      <th>City</th>\n",
       "    </tr>\n",
       "  </thead>\n",
       "  <tbody>\n",
       "    <tr>\n",
       "      <th>0</th>\n",
       "      <td>Omar</td>\n",
       "      <td>31</td>\n",
       "      <td>Toronto</td>\n",
       "    </tr>\n",
       "    <tr>\n",
       "      <th>1</th>\n",
       "      <td>Serag</td>\n",
       "      <td>71</td>\n",
       "      <td>Cairo</td>\n",
       "    </tr>\n",
       "    <tr>\n",
       "      <th>2</th>\n",
       "      <td>Mohamed</td>\n",
       "      <td>101</td>\n",
       "      <td>Algeria</td>\n",
       "    </tr>\n",
       "  </tbody>\n",
       "</table>\n",
       "</div>"
      ],
      "text/plain": [
       "      Name  Age     City\n",
       "0     Omar   31  Toronto\n",
       "1    Serag   71    Cairo\n",
       "2  Mohamed  101  Algeria"
      ]
     },
     "execution_count": 26,
     "metadata": {},
     "output_type": "execute_result"
    }
   ],
   "source": [
    "# Dataframe from a list of dictionaries\n",
    "data = [\n",
    "    {'Name': 'Omar', 'Age': 31, 'City': 'Toronto'},\n",
    "    {'Name': 'Serag', 'Age': 71, 'City': 'Cairo'},\n",
    "    {'Name': 'Mohamed', 'Age': 101, 'City': 'Algeria'}\n",
    "]\n",
    "pd.DataFrame(data)"
   ]
  },
  {
   "cell_type": "code",
   "execution_count": 31,
   "id": "22dfdc28-c853-492f-975f-e8e6f8ee864d",
   "metadata": {},
   "outputs": [
    {
     "name": "stdout",
     "output_type": "stream",
     "text": [
      "         Date          description  debit   credit  balance\n",
      "0  02/19/2025    E-TRANSFER ***qP7    NaN  2000.00  4000.00\n",
      "1  02/28/2025  MONTHLY ACCOUNT FEE  16.95      NaN  3983.05\n",
      "2  02/28/2025      ACCT FEE REBATE    NaN    16.95  4000.00\n"
     ]
    }
   ],
   "source": [
    "# Reading from a csv\n",
    "df = pd.read_csv('test_data/test_data.csv')\n",
    "print(df)"
   ]
  },
  {
   "cell_type": "code",
   "execution_count": 33,
   "id": "01e77798-8472-4114-a65c-fb6f1ac4900f",
   "metadata": {},
   "outputs": [
    {
     "name": "stdout",
     "output_type": "stream",
     "text": [
      "         Date          description  debit   credit  balance\n",
      "0  02/19/2025    E-TRANSFER ***qP7   0.00  2000.00  4000.00\n",
      "1  02/28/2025  MONTHLY ACCOUNT FEE  16.95     0.00  3983.05\n",
      "2  02/28/2025      ACCT FEE REBATE   0.00    16.95  4000.00\n"
     ]
    }
   ],
   "source": [
    "# Notice how the above produces NaN where we have empty fields\n",
    "df.fillna(0, inplace=True)\n",
    "print(df)"
   ]
  },
  {
   "cell_type": "code",
   "execution_count": 34,
   "id": "f6295230-4fb2-42a3-89d8-22446cb3dd86",
   "metadata": {},
   "outputs": [
    {
     "name": "stdout",
     "output_type": "stream",
     "text": [
      "                    description  debit   credit  balance\n",
      "Date                                                    \n",
      "02/19/2025    E-TRANSFER ***qP7   0.00  2000.00  4000.00\n",
      "02/28/2025  MONTHLY ACCOUNT FEE  16.95     0.00  3983.05\n",
      "02/28/2025      ACCT FEE REBATE   0.00    16.95  4000.00\n"
     ]
    }
   ],
   "source": [
    "# Also, notice how the dataframe doesn't have the data set as the index.\n",
    "# We could change that by changing the index as follows\n",
    "df.set_index(\"Date\", inplace=True)\n",
    "print(df)"
   ]
  },
  {
   "cell_type": "code",
   "execution_count": 36,
   "id": "e6475285-e7be-4db3-8d22-420bf915a1f1",
   "metadata": {},
   "outputs": [
    {
     "data": {
      "text/html": [
       "<div>\n",
       "<style scoped>\n",
       "    .dataframe tbody tr th:only-of-type {\n",
       "        vertical-align: middle;\n",
       "    }\n",
       "\n",
       "    .dataframe tbody tr th {\n",
       "        vertical-align: top;\n",
       "    }\n",
       "\n",
       "    .dataframe thead th {\n",
       "        text-align: right;\n",
       "    }\n",
       "</style>\n",
       "<table border=\"1\" class=\"dataframe\">\n",
       "  <thead>\n",
       "    <tr style=\"text-align: right;\">\n",
       "      <th></th>\n",
       "      <th>description</th>\n",
       "      <th>debit</th>\n",
       "      <th>credit</th>\n",
       "      <th>balance</th>\n",
       "    </tr>\n",
       "    <tr>\n",
       "      <th>Date</th>\n",
       "      <th></th>\n",
       "      <th></th>\n",
       "      <th></th>\n",
       "      <th></th>\n",
       "    </tr>\n",
       "  </thead>\n",
       "  <tbody>\n",
       "    <tr>\n",
       "      <th>02/19/2025</th>\n",
       "      <td>E-TRANSFER ***qP7</td>\n",
       "      <td>0.00</td>\n",
       "      <td>2000.0</td>\n",
       "      <td>4000.00</td>\n",
       "    </tr>\n",
       "    <tr>\n",
       "      <th>02/28/2025</th>\n",
       "      <td>MONTHLY ACCOUNT FEE</td>\n",
       "      <td>16.95</td>\n",
       "      <td>0.0</td>\n",
       "      <td>3983.05</td>\n",
       "    </tr>\n",
       "  </tbody>\n",
       "</table>\n",
       "</div>"
      ],
      "text/plain": [
       "                    description  debit  credit  balance\n",
       "Date                                                   \n",
       "02/19/2025    E-TRANSFER ***qP7   0.00  2000.0  4000.00\n",
       "02/28/2025  MONTHLY ACCOUNT FEE  16.95     0.0  3983.05"
      ]
     },
     "execution_count": 36,
     "metadata": {},
     "output_type": "execute_result"
    }
   ],
   "source": [
    "# Printing the top n elements of the dataframe\n",
    "df.head(2)"
   ]
  },
  {
   "cell_type": "markdown",
   "id": "6b0c7703-f53c-4e4c-9cb1-8281af78ddd4",
   "metadata": {},
   "source": [
    "## Accessing values in the dataframe"
   ]
  },
  {
   "cell_type": "code",
   "execution_count": 43,
   "id": "de9a422d-b609-4094-a5ca-7f3a27cd71cc",
   "metadata": {},
   "outputs": [
    {
     "name": "stdout",
     "output_type": "stream",
     "text": [
      "         Age     City\n",
      "Name                 \n",
      "omar      31  Toronto\n",
      "serag     70    Cairo\n",
      "mohamed  100  Algeria\n"
     ]
    }
   ],
   "source": [
    "# Let's first create a simple df\n",
    "# Create a dataframe from a dictionary of lists\n",
    "data = {\n",
    "    'Name': [\"omar\", \"serag\", \"mohamed\"],\n",
    "    'Age': [\"31\", \"70\", \"100\"],\n",
    "    'City': [\"Toronto\", \"Cairo\", \"Algeria\"]\n",
    "}\n",
    "\n",
    "df = pd.DataFrame(data)\n",
    "df.set_index('Name', inplace=True)\n",
    "print(df)"
   ]
  },
  {
   "cell_type": "markdown",
   "id": "94c624b6-0ba7-4b82-bc20-b7aa199d1938",
   "metadata": {},
   "source": [
    "### Column Access"
   ]
  },
  {
   "cell_type": "code",
   "execution_count": 45,
   "id": "7323924d-277a-4e17-8d23-67e34de850de",
   "metadata": {},
   "outputs": [
    {
     "name": "stdout",
     "output_type": "stream",
     "text": [
      "Name\n",
      "omar        31\n",
      "serag       70\n",
      "mohamed    100\n",
      "Name: Age, dtype: object\n",
      "<class 'pandas.core.series.Series'>\n"
     ]
    }
   ],
   "source": [
    "# Accessing an entire column\n",
    "name_column = df['Age']\n",
    "print(name_column)\n",
    "print(type(name_column))"
   ]
  },
  {
   "cell_type": "markdown",
   "id": "0715473b-b45c-472c-afb1-9779d82f222a",
   "metadata": {},
   "source": [
    "**Notice how the type of the column is a data series**"
   ]
  },
  {
   "cell_type": "markdown",
   "id": "f26012ad-89cd-49a3-93e4-51b6f6ef8fca",
   "metadata": {},
   "source": [
    "### Row Access"
   ]
  },
  {
   "cell_type": "code",
   "execution_count": 49,
   "id": "04bce2cc-b554-4bc2-8a1a-68d23b53892b",
   "metadata": {},
   "outputs": [
    {
     "data": {
      "text/plain": [
       "Age          31\n",
       "City    Toronto\n",
       "Name: omar, dtype: object"
      ]
     },
     "execution_count": 49,
     "metadata": {},
     "output_type": "execute_result"
    }
   ],
   "source": [
    "# Accessing a row by using the index label\n",
    "df.loc[\"omar\"] # outputs a data series"
   ]
  },
  {
   "cell_type": "markdown",
   "id": "34137c5d-9fd3-41e9-a6ff-33d8f05e642a",
   "metadata": {},
   "source": [
    "**See lots of more examples of the usage of `df.loc` in the [docs](https://pandas.pydata.org/docs/reference/api/pandas.DataFrame.loc.html)**"
   ]
  },
  {
   "cell_type": "code",
   "execution_count": 53,
   "id": "ce541bb5-16a2-41b1-b903-a94385a009b8",
   "metadata": {},
   "outputs": [
    {
     "data": {
      "text/plain": [
       "Age          31\n",
       "City    Toronto\n",
       "Name: omar, dtype: object"
      ]
     },
     "execution_count": 53,
     "metadata": {},
     "output_type": "execute_result"
    }
   ],
   "source": [
    "#Accessing using the integer position\n",
    "df.iloc[0]"
   ]
  },
  {
   "cell_type": "markdown",
   "id": "6d1fe903-d477-4049-9fa6-f35c91cdc403",
   "metadata": {},
   "source": [
    "**`df.iloc` is very similar to `df.loc` but only uses integer positions, see [docs](https://pandas.pydata.org/docs/reference/api/pandas.DataFrame.iloc.html)**"
   ]
  },
  {
   "cell_type": "markdown",
   "id": "6beede81-c522-499d-9e38-5a41d36f03e6",
   "metadata": {},
   "source": [
    "### Accessing a specified element"
   ]
  },
  {
   "cell_type": "code",
   "execution_count": 51,
   "id": "73ed6d00-282e-4c5a-84cf-878e3db3f3f2",
   "metadata": {},
   "outputs": [
    {
     "data": {
      "text/plain": [
       "'31'"
      ]
     },
     "execution_count": 51,
     "metadata": {},
     "output_type": "execute_result"
    }
   ],
   "source": [
    "# Using df.loc \n",
    "df.loc[\"omar\", \"Age\"]"
   ]
  },
  {
   "cell_type": "code",
   "execution_count": 52,
   "id": "93fe4884-ae36-4369-bd20-ac2e2a4be63c",
   "metadata": {},
   "outputs": [
    {
     "data": {
      "text/plain": [
       "'31'"
      ]
     },
     "execution_count": 52,
     "metadata": {},
     "output_type": "execute_result"
    }
   ],
   "source": [
    "# Could also directly access the series\n",
    "df.loc[\"omar\"][\"Age\"]"
   ]
  },
  {
   "cell_type": "code",
   "execution_count": 56,
   "id": "1759a8e1-9d25-43c2-add2-f5a213996ce6",
   "metadata": {},
   "outputs": [
    {
     "data": {
      "text/plain": [
       "'31'"
      ]
     },
     "execution_count": 56,
     "metadata": {},
     "output_type": "execute_result"
    }
   ],
   "source": [
    "df.iloc[0, 0] # Accessing the age as well"
   ]
  },
  {
   "cell_type": "code",
   "execution_count": 57,
   "id": "10e42989-cbb8-4733-840f-2d347f8ffa7c",
   "metadata": {},
   "outputs": [
    {
     "data": {
      "text/plain": [
       "'31'"
      ]
     },
     "execution_count": 57,
     "metadata": {},
     "output_type": "execute_result"
    }
   ],
   "source": [
    "df.iloc[0][\"Age\"]"
   ]
  },
  {
   "cell_type": "code",
   "execution_count": 59,
   "id": "e4d3b8e3-46de-4ade-98c0-63802a7f2a13",
   "metadata": {},
   "outputs": [
    {
     "data": {
      "text/plain": [
       "'31'"
      ]
     },
     "execution_count": 59,
     "metadata": {},
     "output_type": "execute_result"
    }
   ],
   "source": [
    "df.iloc[0].iloc[0]"
   ]
  },
  {
   "cell_type": "code",
   "execution_count": 60,
   "id": "1383a4cd-d1b4-42ad-b33c-4bc1084a5750",
   "metadata": {},
   "outputs": [
    {
     "data": {
      "text/plain": [
       "'31'"
      ]
     },
     "execution_count": 60,
     "metadata": {},
     "output_type": "execute_result"
    }
   ],
   "source": [
    "# Using at\n",
    "df.at[\"omar\", \"Age\"]"
   ]
  },
  {
   "cell_type": "code",
   "execution_count": 62,
   "id": "dea3e38a-bfb9-49dd-825d-35c04bd21619",
   "metadata": {},
   "outputs": [
    {
     "data": {
      "text/plain": [
       "'31'"
      ]
     },
     "execution_count": 62,
     "metadata": {},
     "output_type": "execute_result"
    }
   ],
   "source": [
    "# Using iat\n",
    "df.iat[0, 0]"
   ]
  },
  {
   "cell_type": "markdown",
   "id": "ee6e0934-e9bc-414b-860f-8995bfc6a72a",
   "metadata": {},
   "source": [
    "## Data Manipulation"
   ]
  },
  {
   "cell_type": "code",
   "execution_count": 80,
   "id": "4601ffc3-9f9a-4140-ae6e-554044c15eab",
   "metadata": {},
   "outputs": [
    {
     "name": "stdout",
     "output_type": "stream",
     "text": [
      "         Age     City\n",
      "Name                 \n",
      "omar      31  Toronto\n",
      "serag     70    Cairo\n",
      "mohamed  100  Algeria\n"
     ]
    }
   ],
   "source": [
    "# Let's first create a simple df\n",
    "# Create a dataframe from a dictionary of lists\n",
    "data = {\n",
    "    'Name': [\"omar\", \"serag\", \"mohamed\"],\n",
    "    'Age': [31, 70, 100],\n",
    "    'City': [\"Toronto\", \"Cairo\", \"Algeria\"]\n",
    "}\n",
    "\n",
    "df = pd.DataFrame(data)\n",
    "df.set_index('Name', inplace=True)\n",
    "print(df)"
   ]
  },
  {
   "cell_type": "code",
   "execution_count": 76,
   "id": "e2184f78-5450-405d-9f9d-d014cb45c80d",
   "metadata": {},
   "outputs": [
    {
     "name": "stdout",
     "output_type": "stream",
     "text": [
      "         Age     City  Salary\n",
      "Name                         \n",
      "omar      31  Toronto   10000\n",
      "serag     70    Cairo  200000\n",
      "mohamed  100  Algeria  300000\n"
     ]
    }
   ],
   "source": [
    "# Adding a column\n",
    "df['Salary'] = [10000, 200000, 300000]\n",
    "print(df)"
   ]
  },
  {
   "cell_type": "code",
   "execution_count": 77,
   "id": "f1492f29-c89a-4827-9f71-970fde18a256",
   "metadata": {},
   "outputs": [
    {
     "name": "stdout",
     "output_type": "stream",
     "text": [
      "         Age     City\n",
      "Name                 \n",
      "omar      31  Toronto\n",
      "serag     70    Cairo\n",
      "mohamed  100  Algeria\n"
     ]
    }
   ],
   "source": [
    "# Remove a column\n",
    "df.drop('Salary', axis=1, inplace=True)\n",
    "print(df)"
   ]
  },
  {
   "cell_type": "code",
   "execution_count": 81,
   "id": "273ee3d4-a600-4b0a-ac57-6b9626307c73",
   "metadata": {},
   "outputs": [
    {
     "name": "stdout",
     "output_type": "stream",
     "text": [
      "         Age     City\n",
      "Name                 \n",
      "omar      32  Toronto\n",
      "serag     71    Cairo\n",
      "mohamed  101  Algeria\n"
     ]
    }
   ],
   "source": [
    "# Add to the age column\n",
    "df['Age'] = df['Age'] + 1\n",
    "print(df)"
   ]
  },
  {
   "cell_type": "markdown",
   "id": "9abaa8af-7a86-4835-9f2d-a3c3110a8b13",
   "metadata": {},
   "source": [
    "## Inspecting the DataFrame"
   ]
  },
  {
   "cell_type": "code",
   "execution_count": 85,
   "id": "0d0e91ca-b6fd-47ba-bd25-fd8806d52bef",
   "metadata": {},
   "outputs": [
    {
     "name": "stdout",
     "output_type": "stream",
     "text": [
      "data types:\n",
      " Age      int64\n",
      "City    object\n",
      "dtype: object\n",
      "\n",
      "Statistical summary:\n",
      "               Age\n",
      "count    3.000000\n",
      "mean    68.000000\n",
      "std     34.597688\n",
      "min     32.000000\n",
      "25%     51.500000\n",
      "50%     71.000000\n",
      "75%     86.000000\n",
      "max    101.000000\n"
     ]
    }
   ],
   "source": [
    "print(\"data types:\\n\", df.dtypes)\n",
    "print()\n",
    "print(\"Statistical summary:\\n\", df.describe())"
   ]
  }
 ],
 "metadata": {
  "kernelspec": {
   "display_name": "Python 3 (ipykernel)",
   "language": "python",
   "name": "python3"
  },
  "language_info": {
   "codemirror_mode": {
    "name": "ipython",
    "version": 3
   },
   "file_extension": ".py",
   "mimetype": "text/x-python",
   "name": "python",
   "nbconvert_exporter": "python",
   "pygments_lexer": "ipython3",
   "version": "3.11.12"
  }
 },
 "nbformat": 4,
 "nbformat_minor": 5
}
