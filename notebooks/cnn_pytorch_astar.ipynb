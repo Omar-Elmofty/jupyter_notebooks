{
 "cells": [
  {
   "cell_type": "markdown",
   "id": "d6e674fe-a43d-42cf-89cd-06f35ce7676d",
   "metadata": {},
   "source": [
    "# CNN using Pytorch on the astar dataset\n",
    "Goal is to use CNNs to solve the supervised learning problem for finding the correct class label for the astar dataset"
   ]
  },
  {
   "cell_type": "code",
   "execution_count": 1,
   "id": "111cffea-16eb-4708-8021-72b597765617",
   "metadata": {},
   "outputs": [],
   "source": [
    "import torch\n",
    "from torch import nn\n",
    "from torch.utils.data import DataLoader\n",
    "from torchvision import datasets\n",
    "from torchvision.transforms import ToTensor"
   ]
  },
  {
   "cell_type": "code",
   "execution_count": 85,
   "id": "303cbc18-f107-4069-abe9-2c0d3c7dca64",
   "metadata": {},
   "outputs": [
    {
     "name": "stdout",
     "output_type": "stream",
     "text": [
      "Execution time: 30.3174 seconds\n"
     ]
    }
   ],
   "source": [
    "# First let's load the dataset\n",
    "from datasets.astar_dataset import make_astar_dataset\n",
    "import time\n",
    "\n",
    "\n",
    "# Set the grid size here\n",
    "n, m = 32, 32  # grid size for the problem\n",
    "N = 100000     # Number of examples\n",
    "\n",
    "# Probability of existence of obstacle\n",
    "obstacle_probability = 0.34\n",
    "\n",
    "\n",
    "# Create the data set\n",
    "start = time.time()\n",
    "X, y = make_astar_dataset(N, n, m, obstacle_probability)\n",
    "print(f\"Execution time: {time.time() - start:.4f} seconds\")"
   ]
  },
  {
   "cell_type": "code",
   "execution_count": 86,
   "id": "c4374d02-80ab-4aaf-ad3f-2635658b4872",
   "metadata": {},
   "outputs": [
    {
     "data": {
      "text/html": [
       "<div>\n",
       "<style scoped>\n",
       "    .dataframe tbody tr th:only-of-type {\n",
       "        vertical-align: middle;\n",
       "    }\n",
       "\n",
       "    .dataframe tbody tr th {\n",
       "        vertical-align: top;\n",
       "    }\n",
       "\n",
       "    .dataframe thead th {\n",
       "        text-align: right;\n",
       "    }\n",
       "</style>\n",
       "<table border=\"1\" class=\"dataframe\">\n",
       "  <thead>\n",
       "    <tr style=\"text-align: right;\">\n",
       "      <th></th>\n",
       "      <th>0</th>\n",
       "      <th>1</th>\n",
       "      <th>2</th>\n",
       "      <th>3</th>\n",
       "      <th>4</th>\n",
       "    </tr>\n",
       "  </thead>\n",
       "  <tbody>\n",
       "    <tr>\n",
       "      <th>count</th>\n",
       "      <td>100000.000000</td>\n",
       "      <td>100000.000000</td>\n",
       "      <td>100000.000000</td>\n",
       "      <td>100000.000000</td>\n",
       "      <td>100000.000000</td>\n",
       "    </tr>\n",
       "    <tr>\n",
       "      <th>mean</th>\n",
       "      <td>0.194980</td>\n",
       "      <td>0.194980</td>\n",
       "      <td>0.194980</td>\n",
       "      <td>0.194980</td>\n",
       "      <td>0.220080</td>\n",
       "    </tr>\n",
       "    <tr>\n",
       "      <th>std</th>\n",
       "      <td>0.396187</td>\n",
       "      <td>0.396187</td>\n",
       "      <td>0.396187</td>\n",
       "      <td>0.396187</td>\n",
       "      <td>0.414302</td>\n",
       "    </tr>\n",
       "    <tr>\n",
       "      <th>min</th>\n",
       "      <td>0.000000</td>\n",
       "      <td>0.000000</td>\n",
       "      <td>0.000000</td>\n",
       "      <td>0.000000</td>\n",
       "      <td>0.000000</td>\n",
       "    </tr>\n",
       "    <tr>\n",
       "      <th>25%</th>\n",
       "      <td>0.000000</td>\n",
       "      <td>0.000000</td>\n",
       "      <td>0.000000</td>\n",
       "      <td>0.000000</td>\n",
       "      <td>0.000000</td>\n",
       "    </tr>\n",
       "    <tr>\n",
       "      <th>50%</th>\n",
       "      <td>0.000000</td>\n",
       "      <td>0.000000</td>\n",
       "      <td>0.000000</td>\n",
       "      <td>0.000000</td>\n",
       "      <td>0.000000</td>\n",
       "    </tr>\n",
       "    <tr>\n",
       "      <th>75%</th>\n",
       "      <td>0.000000</td>\n",
       "      <td>0.000000</td>\n",
       "      <td>0.000000</td>\n",
       "      <td>0.000000</td>\n",
       "      <td>0.000000</td>\n",
       "    </tr>\n",
       "    <tr>\n",
       "      <th>max</th>\n",
       "      <td>1.000000</td>\n",
       "      <td>1.000000</td>\n",
       "      <td>1.000000</td>\n",
       "      <td>1.000000</td>\n",
       "      <td>1.000000</td>\n",
       "    </tr>\n",
       "  </tbody>\n",
       "</table>\n",
       "</div>"
      ],
      "text/plain": [
       "                   0              1              2              3  \\\n",
       "count  100000.000000  100000.000000  100000.000000  100000.000000   \n",
       "mean        0.194980       0.194980       0.194980       0.194980   \n",
       "std         0.396187       0.396187       0.396187       0.396187   \n",
       "min         0.000000       0.000000       0.000000       0.000000   \n",
       "25%         0.000000       0.000000       0.000000       0.000000   \n",
       "50%         0.000000       0.000000       0.000000       0.000000   \n",
       "75%         0.000000       0.000000       0.000000       0.000000   \n",
       "max         1.000000       1.000000       1.000000       1.000000   \n",
       "\n",
       "                   4  \n",
       "count  100000.000000  \n",
       "mean        0.220080  \n",
       "std         0.414302  \n",
       "min         0.000000  \n",
       "25%         0.000000  \n",
       "50%         0.000000  \n",
       "75%         0.000000  \n",
       "max         1.000000  "
      ]
     },
     "execution_count": 86,
     "metadata": {},
     "output_type": "execute_result"
    }
   ],
   "source": [
    "import pandas as pd\n",
    "\n",
    "# Print the statistics of each class label\n",
    "y_df = pd.DataFrame(y)  # Convert y to a pandas Series if it's not already\n",
    "y_df.describe()"
   ]
  },
  {
   "cell_type": "code",
   "execution_count": 87,
   "id": "e38a3636-aa39-44b4-8297-272a36ce807a",
   "metadata": {},
   "outputs": [],
   "source": [
    "# Convert the labels from one_hot vector to integer indicies\n",
    "y = np.argmax(y, axis=1) "
   ]
  },
  {
   "cell_type": "code",
   "execution_count": 88,
   "id": "b0317174-a266-4dac-a212-3d56c9bf8769",
   "metadata": {},
   "outputs": [],
   "source": [
    "# Create a custom torch dataset\n",
    "import torch\n",
    "from torch.utils.data import Dataset, DataLoader\n",
    "\n",
    "X_tensor = torch.from_numpy(X).float()\n",
    "y_tensor = torch.from_numpy(y).long()\n",
    "\n",
    "# Create a custom dataset class to retrieve the data\n",
    "class BinaryImageDataset(Dataset):\n",
    "    def __init__(self, images, labels):\n",
    "        self.images = images\n",
    "        self.labels = labels\n",
    "\n",
    "    def __len__(self):\n",
    "        return len(self.images)\n",
    "\n",
    "    def __getitem__(self, idx):\n",
    "        return self.images[idx], self.labels[idx]\n",
    "\n",
    "\n",
    "# Create the dataset and dataloader classes\n",
    "\n",
    "dataset = BinaryImageDataset(X_tensor, y_tensor)\n",
    "trainloader = DataLoader(dataset, batch_size=4, shuffle=True)"
   ]
  },
  {
   "cell_type": "code",
   "execution_count": 89,
   "id": "cf1f4c53-92ff-4c2d-8a50-e824c796366e",
   "metadata": {},
   "outputs": [
    {
     "name": "stdout",
     "output_type": "stream",
     "text": [
      "torch.Size([3, 32, 32])\n",
      "left\n"
     ]
    },
    {
     "data": {
      "image/png": "[encoded data removed]",
      "text/plain": [
       "<Figure size 640x480 with 1 Axes>"
      ]
     },
     "metadata": {},
     "output_type": "display_data"
    }
   ],
   "source": [
    "# Visualize some of the images\n",
    "import matplotlib.pyplot as plt\n",
    "import numpy as np\n",
    "import torchvision\n",
    "\n",
    "# Visualizing the dataset\n",
    "\n",
    "classes = (\"up\", \"left\", \"down\", \"right\", \"no_path\")\n",
    "\n",
    "def imshow(img):\n",
    "    img = img / 2 + 0.5\n",
    "    npimg = img.numpy()\n",
    "    plt.imshow(np.transpose(npimg, (1, 2, 0)))\n",
    "\n",
    "dataiter = iter(trainloader)\n",
    "images, labels = next(dataiter)\n",
    "\n",
    "img = images[0]\n",
    "label = labels[0].item()\n",
    "\n",
    "print(img.shape)\n",
    "# imshow(torchvision.utils.make_grid(images))\n",
    "imshow(img)\n",
    "\n",
    "print(classes[label])\n"
   ]
  },
  {
   "cell_type": "code",
   "execution_count": 90,
   "id": "a70ef2d1-7922-4ff2-bc3f-7dbb96aa9b19",
   "metadata": {},
   "outputs": [
    {
     "data": {
      "text/plain": [
       "tensor([[-0.0649,  0.0479, -0.0978, -0.0663, -0.0588,  0.0277,  0.0153, -0.0406,\n",
       "          0.0507,  0.0719]], grad_fn=<AddmmBackward0>)"
      ]
     },
     "execution_count": 90,
     "metadata": {},
     "output_type": "execute_result"
    }
   ],
   "source": [
    "# Let's now create a network that can solve this problem\n",
    "import torch.nn as nn\n",
    "import torch.nn.functional as F\n",
    "\n",
    "class AstarNetwork(nn.Module):\n",
    "    def __init__(self):\n",
    "        super(AstarNetwork, self).__init__()\n",
    "        self.conv1 = nn.Conv2d(3, 6, 5)\n",
    "        self.pool = nn.MaxPool2d(2, 2)\n",
    "        self.conv2 = nn.Conv2d(6, 16, 5)\n",
    "        self.fc1 = nn.Linear(16 * 5 * 5, 120)\n",
    "        self.fc2 = nn.Linear(120, 84)\n",
    "        self.fc3 = nn.Linear(84, 10)\n",
    "\n",
    "    def forward(self, x):\n",
    "        x = self.pool(F.relu(self.conv1(x)))\n",
    "        x = self.pool(F.relu(self.conv2(x)))\n",
    "        x = x.view(-1, 16 * 5 * 5)\n",
    "        x = F.relu(self.fc1(x))\n",
    "        x = F.relu(self.fc2(x))\n",
    "        x = self.fc3(x)\n",
    "        return x\n",
    "\n",
    "net = AstarNetwork()\n",
    "net(img)"
   ]
  },
  {
   "cell_type": "code",
   "execution_count": 91,
   "id": "2bc8e12c-7364-4ca4-8622-3589774b1f19",
   "metadata": {},
   "outputs": [
    {
     "name": "stdout",
     "output_type": "stream",
     "text": [
      "[0, 1999] loss: 1.696083959043026\n",
      "[0, 3999] loss: 1.626701900601387\n",
      "[0, 5999] loss: 1.622014418542385\n",
      "[0, 7999] loss: 1.6203924247026444\n",
      "[0, 9999] loss: 1.6193595696091652\n",
      "[0, 11999] loss: 1.6178075722455978\n",
      "[0, 13999] loss: 1.617359654545784\n",
      "[0, 15999] loss: 1.6176541901230812\n",
      "[0, 17999] loss: 1.6161127519607543\n",
      "[0, 19999] loss: 1.6161269274950028\n",
      "[0, 21999] loss: 1.6156476418972014\n",
      "[0, 23999] loss: 1.6164099154472351\n",
      "[1, 1999] loss: 1.6142184123396874\n",
      "[1, 3999] loss: 1.6148822720050813\n",
      "[1, 5999] loss: 1.6130842953324318\n",
      "[1, 7999] loss: 1.6138817499876021\n",
      "[1, 9999] loss: 1.6136884601116182\n",
      "[1, 11999] loss: 1.6139769847393035\n",
      "[1, 13999] loss: 1.613466708779335\n",
      "[1, 15999] loss: 1.6136337931752205\n",
      "[1, 17999] loss: 1.6120574041604996\n",
      "[1, 19999] loss: 1.6114340067505837\n",
      "[1, 21999] loss: 1.6126478654146195\n",
      "[1, 23999] loss: 1.6116077530384063\n"
     ]
    }
   ],
   "source": [
    "import torch.optim as optim\n",
    "# Define the loss and the optimizer\n",
    "criterion = nn.CrossEntropyLoss() # The cross entropy loss for classification\n",
    "optimizer = optim.SGD(net.parameters(), lr=0.001, momentum=0.9)\n",
    "\n",
    "# Train\n",
    "for epoch in range(2): # Loop over the dataset multiple times\n",
    "    running_loss = 0.0\n",
    "    for i, data in enumerate(trainloader, 0):\n",
    "        inputs, labels = data\n",
    "        # Zero gradient here is an important step\n",
    "        # Gradients are accumulated over a batch, if we don't reset the gradient here we will keep accumulating gradients\n",
    "        # making it impossible to train\n",
    "        optimizer.zero_grad() \n",
    "\n",
    "        # Forward + backward + optimize\n",
    "        outputs = net(inputs)\n",
    "        loss = criterion(outputs, labels)\n",
    "        loss.backward() # Compute the gradients that will direct the learning\n",
    "        optimizer.step() # actually learn (one learning step)\n",
    "\n",
    "        # print statistics\n",
    "        running_loss += loss.item()\n",
    "        if i % 2000 == 1999: # print every 2000 minibatches\n",
    "            print(f\"[{epoch}, {i}] loss: {running_loss / 2000}\")\n",
    "            running_loss = 0.0"
   ]
  }
 ],
 "metadata": {
  "kernelspec": {
   "display_name": "Python 3 (ipykernel)",
   "language": "python",
   "name": "python3"
  },
  "language_info": {
   "codemirror_mode": {
    "name": "ipython",
    "version": 3
   },
   "file_extension": ".py",
   "mimetype": "text/x-python",
   "name": "python",
   "nbconvert_exporter": "python",
   "pygments_lexer": "ipython3",
   "version": "3.11.12"
  }
 },
 "nbformat": 4,
 "nbformat_minor": 5
}
