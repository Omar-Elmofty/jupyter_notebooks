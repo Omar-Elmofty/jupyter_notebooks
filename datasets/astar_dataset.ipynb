{
 "cells": [
  {
   "cell_type": "markdown",
   "id": "3e60d34c-2212-4674-a980-55bb18188ada",
   "metadata": {},
   "source": [
    "# Astar dataset\n",
    "\n",
    "The puprose of this dataset is to explore learning end to end the Astar algorithm from scratch.\n",
    "This dataset provides the enviroment defined as a grid, where:\n",
    "- 0 indicates free space, and 1 indicates obstacle.\n",
    "- Not all enviroments have a solution.\n",
    "- The solution is defined as a sequence of actions, where:\n",
    "   0 -> up, 1 -> right, 2 -> down, 3 -> left\n",
    "- The solution is given as a series of actions [0, 1, 0, 2]\n",
    "\n",
    "## The input\n",
    "\n",
    "The input is of the shape 3 x n x m, where:\n",
    "- n: height of the grid for planning\n",
    "- m: width of the grid for planning\n",
    "- The 3 nxm grids are: 1. The grid representing the environment, 2. The one hot encoded vector representing the start, 3. The one hot encoded vector representing the goal\n",
    "\n",
    "## The output\n",
    "The output will be 5 classes:\n",
    "- Move up\n",
    "- Move down\n",
    "- Move right\n",
    "- Move left\n",
    "- Do nothing (no solution exists)\n",
    "The problem can be treated as a classification problem, where each of the above actions can have a specific probability.\n",
    "\n",
    "\n",
    "There are 2 problems that this dataset can help solve:\n",
    "1. Whether a solution exits or not (completeness)\n",
    "2. Finiding the optimal solution if it exists"
   ]
  },
  {
   "cell_type": "code",
   "execution_count": 38,
   "id": "1bef3a20-4777-447c-bc1c-2a339c857261",
   "metadata": {},
   "outputs": [],
   "source": [
    "import numpy as np\n",
    "import matplotlib.pyplot as plt\n",
    "import time"
   ]
  },
  {
   "cell_type": "code",
   "execution_count": 40,
   "id": "ea0afdf1-ff08-452c-a184-8aca7072344f",
   "metadata": {},
   "outputs": [],
   "source": [
    "# Set the grid size here\n",
    "n, m = 10, 10  # grid size for the problem\n",
    "N = 10000      # Number of examples\n",
    "\n",
    "# Probability of existence of obstacle\n",
    "obstacle_probability = 0.2"
   ]
  },
  {
   "cell_type": "code",
   "execution_count": 43,
   "id": "24bee82f-88d5-4367-9005-211cbded9f89",
   "metadata": {},
   "outputs": [],
   "source": [
    "def createDataInstance(n, m, obstacle_p=0.2):\n",
    "    x = np.empty((3, n, m))\n",
    "    zero_positions = np.array([])\n",
    "    while len(zero_positions) == 0:\n",
    "        x[0, :, :] = np.random.choice([0, 1], size=(n, m), p=[1.0 - obstacle_p, obstacle_p])\n",
    "        zero_positions = np.argwhere(x[0] == 0)\n",
    "\n",
    "    x[1, :, :] = np.zeros(shape=(n,m))\n",
    "    x[2, :, :] = np.zeros(shape=(n,m))\n",
    "\n",
    "    index = zero_positions[np.random.choice(len(zero_positions))]\n",
    "    x[1, index[0], index[1]] = 1 \n",
    "    index = zero_positions[np.random.choice(len(zero_positions))]\n",
    "    x[2, index[0], index[1]] = 1\n",
    "\n",
    "    return x\n",
    "\n",
    "# def createLabel(x):\n",
    "    # first validate x\n",
    "    # Find the optimal path using astar\n",
    "    # This becomes a classification problem, with 4 classes:\n",
    "    # - Right / left / up / down\n",
    "    # Use softmax output layer\n",
    "\n",
    "\n",
    "def plotX(x):\n",
    "    # Plot the grid\n",
    "    plt.imshow(x[0], cmap='RdYlGn', interpolation='nearest')\n",
    "\n",
    "    # Plot the starting position\n",
    "    start_index = np.argwhere(x[1] == 1)[0]\n",
    "    plt.scatter(start_index[1], start_index[0], color='blue', s=100, label='Random Zero Position')\n",
    "    goal_index = np.argwhere(x[2] == 1)[0]\n",
    "    plt.scatter(goal_index[1], goal_index[0], color='yellow', s=100, label='Random Zero Position')\n",
    "\n",
    "def createDataset(N, n, m, obstacle_p=0.2):\n",
    "    X = np.empty((N, 3, n, m))\n",
    "    for i in range(N):\n",
    "        X[i] = createDataInstance(n, m, obstacle_p)\n",
    "    return X"
   ]
  },
  {
   "cell_type": "code",
   "execution_count": 44,
   "id": "4be125b3-62f0-4d00-9723-7ba2671674f2",
   "metadata": {},
   "outputs": [
    {
     "name": "stdout",
     "output_type": "stream",
     "text": [
      "Execution time: 0.7598 seconds\n"
     ]
    }
   ],
   "source": [
    "# Create the data set\n",
    "start = time.time()\n",
    "X = createDataset(N, n, m, obstacle_probability)\n",
    "print(f\"Execution time: {time.time() - start:.4f} seconds\")"
   ]
  },
  {
   "cell_type": "code",
   "execution_count": 45,
   "id": "f7e3988b-ef23-4f61-9dd2-ff92db38aa1a",
   "metadata": {},
   "outputs": [
    {
     "name": "stdout",
     "output_type": "stream",
     "text": [
      "[[[0. 0. 0. 0. 1. 0. 0. 0. 0. 0.]\n",
      "  [1. 0. 0. 0. 0. 0. 1. 0. 0. 0.]\n",
      "  [0. 1. 1. 0. 0. 0. 0. 0. 0. 0.]\n",
      "  [0. 0. 0. 0. 0. 0. 0. 0. 0. 0.]\n",
      "  [0. 0. 0. 0. 0. 0. 0. 0. 0. 0.]\n",
      "  [0. 0. 0. 1. 0. 0. 0. 1. 0. 0.]\n",
      "  [0. 0. 0. 0. 0. 0. 1. 0. 0. 1.]\n",
      "  [0. 0. 0. 0. 0. 0. 0. 0. 0. 0.]\n",
      "  [0. 0. 1. 0. 0. 0. 0. 0. 1. 0.]\n",
      "  [0. 0. 1. 0. 0. 0. 0. 1. 0. 1.]]\n",
      "\n",
      " [[0. 0. 0. 0. 0. 0. 0. 0. 0. 0.]\n",
      "  [0. 0. 0. 0. 0. 0. 0. 0. 0. 0.]\n",
      "  [0. 0. 0. 0. 0. 0. 0. 0. 0. 0.]\n",
      "  [0. 0. 0. 0. 0. 0. 0. 0. 0. 0.]\n",
      "  [0. 0. 0. 0. 0. 0. 0. 0. 0. 0.]\n",
      "  [0. 0. 0. 0. 0. 0. 0. 0. 0. 0.]\n",
      "  [0. 0. 0. 0. 0. 0. 0. 0. 0. 0.]\n",
      "  [0. 0. 0. 0. 0. 1. 0. 0. 0. 0.]\n",
      "  [0. 0. 0. 0. 0. 0. 0. 0. 0. 0.]\n",
      "  [0. 0. 0. 0. 0. 0. 0. 0. 0. 0.]]\n",
      "\n",
      " [[0. 0. 0. 0. 0. 0. 0. 0. 0. 0.]\n",
      "  [0. 0. 0. 0. 0. 0. 0. 0. 0. 0.]\n",
      "  [0. 0. 0. 0. 0. 0. 0. 0. 0. 0.]\n",
      "  [0. 0. 0. 0. 0. 0. 0. 0. 0. 0.]\n",
      "  [0. 0. 0. 0. 0. 0. 0. 0. 0. 0.]\n",
      "  [0. 0. 0. 0. 1. 0. 0. 0. 0. 0.]\n",
      "  [0. 0. 0. 0. 0. 0. 0. 0. 0. 0.]\n",
      "  [0. 0. 0. 0. 0. 0. 0. 0. 0. 0.]\n",
      "  [0. 0. 0. 0. 0. 0. 0. 0. 0. 0.]\n",
      "  [0. 0. 0. 0. 0. 0. 0. 0. 0. 0.]]]\n"
     ]
    },
    {
     "data": {
      "image/png": "[encoded data removed]",
      "text/plain": [
       "<Figure size 640x480 with 1 Axes>"
      ]
     },
     "metadata": {},
     "output_type": "display_data"
    }
   ],
   "source": [
    "x = createDataInstance(n, m, obstacle_probability)\n",
    "print(x)\n",
    "plotX(x)"
   ]
  }
 ],
 "metadata": {
  "kernelspec": {
   "display_name": "Python 3 (ipykernel)",
   "language": "python",
   "name": "python3"
  },
  "language_info": {
   "codemirror_mode": {
    "name": "ipython",
    "version": 3
   },
   "file_extension": ".py",
   "mimetype": "text/x-python",
   "name": "python",
   "nbconvert_exporter": "python",
   "pygments_lexer": "ipython3",
   "version": "3.11.12"
  }
 },
 "nbformat": 4,
 "nbformat_minor": 5
}
