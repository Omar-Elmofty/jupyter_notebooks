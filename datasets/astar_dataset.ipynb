{
 "cells": [
  {
   "cell_type": "markdown",
   "id": "3e60d34c-2212-4674-a980-55bb18188ada",
   "metadata": {},
   "source": [
    "# Astar dataset\n",
    "\n",
    "The puprose of this dataset is to explore learning end to end the Astar algorithm from scratch.\n",
    "This dataset provides the enviroment defined as a grid, where:\n",
    "- 0 indicates free space, and 1 indicates obstacle.\n",
    "- Not all enviroments have a solution.\n",
    "- The solution is defined as a sequence of actions, where:\n",
    "   0 -> up, 1 -> right, 2 -> down, 3 -> left\n",
    "- The solution is given as a series of actions [0, 1, 0, 2]\n",
    "\n",
    "## The input\n",
    "\n",
    "The input is of the shape 3 x n x m, where:\n",
    "- n: height of the grid for planning\n",
    "- m: width of the grid for planning\n",
    "- The 3 nxm grids are: 1. The grid representing the environment, 2. The one hot encoded vector representing the start, 3. The one hot encoded vector representing the goal\n",
    "\n",
    "## The output\n",
    "The output will be 5 classes:\n",
    "- Move up (0)\n",
    "- Move down (1)\n",
    "- Move left (2)\n",
    "- Move right (3)\n",
    "- Do nothing (4) (no solution exists)\n",
    "The problem can be treated as a classification problem, where each of the above actions can have a specific probability.\n",
    "\n",
    "\n",
    "There are 2 problems that this dataset can help solve:\n",
    "1. Whether a solution exits or not (completeness)\n",
    "2. Finiding the optimal solution if it exists"
   ]
  },
  {
   "cell_type": "code",
   "execution_count": 1,
   "id": "1bef3a20-4777-447c-bc1c-2a339c857261",
   "metadata": {},
   "outputs": [],
   "source": [
    "import numpy as np\n",
    "import matplotlib.pyplot as plt\n",
    "import time"
   ]
  },
  {
   "cell_type": "code",
   "execution_count": 2,
   "id": "ea0afdf1-ff08-452c-a184-8aca7072344f",
   "metadata": {},
   "outputs": [],
   "source": [
    "# Set the grid size here\n",
    "n, m = 10, 10  # grid size for the problem\n",
    "N = 10000      # Number of examples\n",
    "\n",
    "# Probability of existence of obstacle\n",
    "obstacle_probability = 0.2"
   ]
  },
  {
   "cell_type": "code",
   "execution_count": 3,
   "id": "f192c894-008a-4def-8dcc-15a415d6a151",
   "metadata": {},
   "outputs": [],
   "source": [
    "def createDataInstance(n, m, obstacle_p=0.2):\n",
    "    x = np.empty((3, n, m))\n",
    "    zero_positions = np.array([])\n",
    "    while len(zero_positions) == 0:\n",
    "        x[0, :, :] = np.random.choice([0, 1], size=(n, m), p=[1.0 - obstacle_p, obstacle_p])\n",
    "        zero_positions = np.argwhere(x[0] == 0)\n",
    "\n",
    "    x[1, :, :] = np.zeros(shape=(n,m))\n",
    "    x[2, :, :] = np.zeros(shape=(n,m))\n",
    "\n",
    "    index = zero_positions[np.random.choice(len(zero_positions))]\n",
    "    x[1, index[0], index[1]] = 1 \n",
    "    index = zero_positions[np.random.choice(len(zero_positions))]\n",
    "    x[2, index[0], index[1]] = 1\n",
    "\n",
    "    return x"
   ]
  },
  {
   "cell_type": "code",
   "execution_count": 29,
   "id": "b2fe7685-58b9-4ef6-afb8-f585f3aba18c",
   "metadata": {},
   "outputs": [],
   "source": [
    "import numpy as np\n",
    "import heapq\n",
    "\n",
    "def manhattan_distance(a, b):\n",
    "    \"\"\"Calculate Manhattan distance between two points.\"\"\"\n",
    "    return abs(a[0] - b[0]) + abs(a[1] - b[1])\n",
    "\n",
    "def astar(grid, start, goal):\n",
    "    \"\"\"\n",
    "    A* pathfinding algorithm using Manhattan distance.\n",
    "    \n",
    "    Args:\n",
    "        grid (np.ndarray): 2D numpy array, 0 for free cell, 1 for obstacle.\n",
    "        start (tuple): Starting cell coordinates (row, col).\n",
    "        goal (tuple): Goal cell coordinates (row, col).\n",
    "    \n",
    "    Returns:\n",
    "        list of tuples: The path from start to goal, including both. Empty list if no path.\n",
    "    \"\"\"\n",
    "    n, m = grid.shape\n",
    "    visited = set()\n",
    "    came_from = {}\n",
    "    g_score = {start: 0}\n",
    "    f_score = {start: manhattan_distance(start, goal)}\n",
    "    \n",
    "    open_set = []\n",
    "    heapq.heappush(open_set, (f_score[start], start))\n",
    "\n",
    "    # Allowed motions: up, down, left, right\n",
    "    directions = [(-1, 0), (1, 0), (0, -1), (0, 1)]\n",
    "\n",
    "    while open_set:\n",
    "        _, current = heapq.heappop(open_set)\n",
    "\n",
    "        if current == goal:\n",
    "            # Reconstruct path\n",
    "            path = [current]\n",
    "            while current in came_from:\n",
    "                current = came_from[current]\n",
    "                path.append(current)\n",
    "            path.reverse()\n",
    "            return path\n",
    "\n",
    "        visited.add(current)\n",
    "\n",
    "        for d in directions:\n",
    "            neighbor = (current[0] + d[0], current[1] + d[1])\n",
    "\n",
    "            if (0 <= neighbor[0] < n and 0 <= neighbor[1] < m and\n",
    "                grid[neighbor] == 0 and neighbor not in visited):\n",
    "                \n",
    "                tentative_g_score = g_score[current] + 1\n",
    "\n",
    "                if tentative_g_score < g_score.get(neighbor, float('inf')):\n",
    "                    came_from[neighbor] = current\n",
    "                    g_score[neighbor] = tentative_g_score\n",
    "                    f_score[neighbor] = tentative_g_score + manhattan_distance(neighbor, goal)\n",
    "                    heapq.heappush(open_set, (f_score[neighbor], neighbor))\n",
    "\n",
    "    return []  # No path found\n"
   ]
  },
  {
   "cell_type": "code",
   "execution_count": 10,
   "id": "22fa4ee7-e3b3-4ba5-8b26-1faba5b4a07a",
   "metadata": {},
   "outputs": [],
   "source": [
    "def plotX(x, path):\n",
    "    # Plot the grid\n",
    "    plt.imshow(x[0], cmap='RdYlGn', interpolation='nearest')\n",
    "\n",
    "\n",
    "    for index in path:\n",
    "        plt.scatter(index[1], index[0], color='white', s=100, label='Random Zero Position')\n",
    "\n",
    "\n",
    "    # Plot the starting position\n",
    "    start_index = np.argwhere(x[1] == 1)[0]\n",
    "    plt.scatter(start_index[1], start_index[0], color='blue', s=100, label='Random Zero Position')\n",
    "    goal_index = np.argwhere(x[2] == 1)[0]\n",
    "    plt.scatter(goal_index[1], goal_index[0], color='yellow', s=100, label='Random Zero Position')\n",
    "    "
   ]
  },
  {
   "cell_type": "code",
   "execution_count": 33,
   "id": "d829d448-b829-4d9f-ab87-f17093e07434",
   "metadata": {},
   "outputs": [],
   "source": [
    "def get_direction(from_cell, to_cell):\n",
    "    \"\"\"\n",
    "    Determine the direction of motion between two adjacent grid cells.\n",
    "\n",
    "    Args:\n",
    "        from_cell (tuple): Starting cell as (row, col)\n",
    "        to_cell (tuple): Target cell as (row, col)\n",
    "\n",
    "    Returns:\n",
    "        str: One of 'up', 'down', 'left', 'right', or 'invalid'\n",
    "    \"\"\"\n",
    "    dr = to_cell[0] - from_cell[0]\n",
    "    dc = to_cell[1] - from_cell[1]\n",
    "\n",
    "    if dr == -1 and dc == 0:\n",
    "        return 0 # up\n",
    "    elif dr == 1 and dc == 0:\n",
    "        return 1 # down\n",
    "    elif dr == 0 and dc == -1:\n",
    "        return 2 # left\n",
    "    elif dr == 0 and dc == 1:\n",
    "        return 3 # right\n",
    "    else:\n",
    "        return 4\n",
    "\n",
    "\n",
    "def createLabel(x):\n",
    "    y = np.empty((5))\n",
    "    path = astar(x[0], start, goal)\n",
    "\n",
    "    if len(path) <= 1:\n",
    "        y[4] = 1\n",
    "        return y\n",
    "\n",
    "    y[get_direction(path[0], path[1])] = 1\n",
    "    return y\n",
    "    "
   ]
  },
  {
   "cell_type": "code",
   "execution_count": 56,
   "id": "e3d7152f-4e29-4ab3-bcf9-3c03af3d4ef8",
   "metadata": {},
   "outputs": [
    {
     "name": "stdout",
     "output_type": "stream",
     "text": [
      "(np.int64(5), np.int64(5))\n",
      "(np.int64(3), np.int64(1))\n",
      "Path: [(np.int64(5), np.int64(5)), (np.int64(4), np.int64(5)), (np.int64(3), np.int64(5)), (np.int64(3), np.int64(4)), (np.int64(3), np.int64(3)), (np.int64(3), np.int64(2)), (np.int64(3), np.int64(1))]\n",
      "[1.0e+000 3.0e-323 3.5e-323 4.0e-323 4.4e-323]\n"
     ]
    },
    {
     "data": {
      "image/png": "[encoded data removed]",
      "text/plain": [
       "<Figure size 640x480 with 1 Axes>"
      ]
     },
     "metadata": {},
     "output_type": "display_data"
    }
   ],
   "source": [
    "x = createDataInstance(n, m)\n",
    "\n",
    "start = tuple(np.argwhere(x[1] == 1)[0])\n",
    "goal = tuple(np.argwhere(x[2] == 1)[0])\n",
    "print(start)\n",
    "print(goal)\n",
    "path = astar(x[0], start, goal)\n",
    "print(\"Path:\", path)\n",
    "print(createLabel(x))\n",
    "plotX(x, path)"
   ]
  },
  {
   "cell_type": "code",
   "execution_count": 59,
   "id": "ca344a4c-f6ac-478e-accd-f4b3a72af0ab",
   "metadata": {},
   "outputs": [],
   "source": [
    "def createDataset(N, n, m, obstacle_p=0.2):\n",
    "    X = np.empty((N, 3, n, m))\n",
    "    y = np.empty((N, 5))\n",
    "    for i in range(N):\n",
    "        x = createDataInstance(n, m, obstacle_p)\n",
    "        X[i] = x\n",
    "        y[i] = createLabel(x)\n",
    "    return X, y"
   ]
  },
  {
   "cell_type": "code",
   "execution_count": 60,
   "id": "4be125b3-62f0-4d00-9723-7ba2671674f2",
   "metadata": {},
   "outputs": [
    {
     "ename": "TypeError",
     "evalue": "'float' object is not subscriptable",
     "output_type": "error",
     "traceback": [
      "\u001b[31m---------------------------------------------------------------------------\u001b[39m",
      "\u001b[31mTypeError\u001b[39m                                 Traceback (most recent call last)",
      "\u001b[36mCell\u001b[39m\u001b[36m \u001b[39m\u001b[32mIn[60]\u001b[39m\u001b[32m, line 3\u001b[39m\n\u001b[32m      1\u001b[39m \u001b[38;5;66;03m# Create the data set\u001b[39;00m\n\u001b[32m      2\u001b[39m start = time.time()\n\u001b[32m----> \u001b[39m\u001b[32m3\u001b[39m X, y = \u001b[43mcreateDataset\u001b[49m\u001b[43m(\u001b[49m\u001b[43mN\u001b[49m\u001b[43m,\u001b[49m\u001b[43m \u001b[49m\u001b[43mn\u001b[49m\u001b[43m,\u001b[49m\u001b[43m \u001b[49m\u001b[43mm\u001b[49m\u001b[43m,\u001b[49m\u001b[43m \u001b[49m\u001b[43mobstacle_probability\u001b[49m\u001b[43m)\u001b[49m\n\u001b[32m      4\u001b[39m \u001b[38;5;28mprint\u001b[39m(\u001b[33mf\u001b[39m\u001b[33m\"\u001b[39m\u001b[33mExecution time: \u001b[39m\u001b[38;5;132;01m{\u001b[39;00mtime.time()\u001b[38;5;250m \u001b[39m-\u001b[38;5;250m \u001b[39mstart\u001b[38;5;132;01m:\u001b[39;00m\u001b[33m.4f\u001b[39m\u001b[38;5;132;01m}\u001b[39;00m\u001b[33m seconds\u001b[39m\u001b[33m\"\u001b[39m)\n",
      "\u001b[36mCell\u001b[39m\u001b[36m \u001b[39m\u001b[32mIn[59]\u001b[39m\u001b[32m, line 7\u001b[39m, in \u001b[36mcreateDataset\u001b[39m\u001b[34m(N, n, m, obstacle_p)\u001b[39m\n\u001b[32m      5\u001b[39m     x = createDataInstance(n, m, obstacle_p)\n\u001b[32m      6\u001b[39m     X[i] = x\n\u001b[32m----> \u001b[39m\u001b[32m7\u001b[39m     y[i] = \u001b[43mcreateLabel\u001b[49m\u001b[43m(\u001b[49m\u001b[43mx\u001b[49m\u001b[43m)\u001b[49m\n\u001b[32m      8\u001b[39m \u001b[38;5;28;01mreturn\u001b[39;00m X, y\n",
      "\u001b[36mCell\u001b[39m\u001b[36m \u001b[39m\u001b[32mIn[33]\u001b[39m\u001b[32m, line 29\u001b[39m, in \u001b[36mcreateLabel\u001b[39m\u001b[34m(x)\u001b[39m\n\u001b[32m     27\u001b[39m \u001b[38;5;28;01mdef\u001b[39;00m\u001b[38;5;250m \u001b[39m\u001b[34mcreateLabel\u001b[39m(x):\n\u001b[32m     28\u001b[39m     y = np.empty((\u001b[32m5\u001b[39m))\n\u001b[32m---> \u001b[39m\u001b[32m29\u001b[39m     path = \u001b[43mastar\u001b[49m\u001b[43m(\u001b[49m\u001b[43mx\u001b[49m\u001b[43m[\u001b[49m\u001b[32;43m0\u001b[39;49m\u001b[43m]\u001b[49m\u001b[43m,\u001b[49m\u001b[43m \u001b[49m\u001b[43mstart\u001b[49m\u001b[43m,\u001b[49m\u001b[43m \u001b[49m\u001b[43mgoal\u001b[49m\u001b[43m)\u001b[49m\n\u001b[32m     31\u001b[39m     \u001b[38;5;28;01mif\u001b[39;00m \u001b[38;5;28mlen\u001b[39m(path) <= \u001b[32m1\u001b[39m:\n\u001b[32m     32\u001b[39m         y[\u001b[32m4\u001b[39m] = \u001b[32m1\u001b[39m\n",
      "\u001b[36mCell\u001b[39m\u001b[36m \u001b[39m\u001b[32mIn[29]\u001b[39m\u001b[32m, line 24\u001b[39m, in \u001b[36mastar\u001b[39m\u001b[34m(grid, start, goal)\u001b[39m\n\u001b[32m     22\u001b[39m came_from = {}\n\u001b[32m     23\u001b[39m g_score = {start: \u001b[32m0\u001b[39m}\n\u001b[32m---> \u001b[39m\u001b[32m24\u001b[39m f_score = {start: \u001b[43mmanhattan_distance\u001b[49m\u001b[43m(\u001b[49m\u001b[43mstart\u001b[49m\u001b[43m,\u001b[49m\u001b[43m \u001b[49m\u001b[43mgoal\u001b[49m\u001b[43m)\u001b[49m}\n\u001b[32m     26\u001b[39m open_set = []\n\u001b[32m     27\u001b[39m heapq.heappush(open_set, (f_score[start], start))\n",
      "\u001b[36mCell\u001b[39m\u001b[36m \u001b[39m\u001b[32mIn[29]\u001b[39m\u001b[32m, line 6\u001b[39m, in \u001b[36mmanhattan_distance\u001b[39m\u001b[34m(a, b)\u001b[39m\n\u001b[32m      4\u001b[39m \u001b[38;5;28;01mdef\u001b[39;00m\u001b[38;5;250m \u001b[39m\u001b[34mmanhattan_distance\u001b[39m(a, b):\n\u001b[32m      5\u001b[39m \u001b[38;5;250m    \u001b[39m\u001b[33;03m\"\"\"Calculate Manhattan distance between two points.\"\"\"\u001b[39;00m\n\u001b[32m----> \u001b[39m\u001b[32m6\u001b[39m     \u001b[38;5;28;01mreturn\u001b[39;00m \u001b[38;5;28mabs\u001b[39m(\u001b[43ma\u001b[49m\u001b[43m[\u001b[49m\u001b[32;43m0\u001b[39;49m\u001b[43m]\u001b[49m - b[\u001b[32m0\u001b[39m]) + \u001b[38;5;28mabs\u001b[39m(a[\u001b[32m1\u001b[39m] - b[\u001b[32m1\u001b[39m])\n",
      "\u001b[31mTypeError\u001b[39m: 'float' object is not subscriptable"
     ]
    }
   ],
   "source": [
    "# Create the data set\n",
    "start = time.time()\n",
    "X, y = createDataset(N, n, m, obstacle_probability)\n",
    "print(f\"Execution time: {time.time() - start:.4f} seconds\")"
   ]
  },
  {
   "cell_type": "code",
   "execution_count": null,
   "id": "f7e3988b-ef23-4f61-9dd2-ff92db38aa1a",
   "metadata": {},
   "outputs": [],
   "source": [
    "x = createDataInstance(n, m, obstacle_probability)\n",
    "print(x)\n",
    "plotX(x)"
   ]
  }
 ],
 "metadata": {
  "kernelspec": {
   "display_name": "Python 3 (ipykernel)",
   "language": "python",
   "name": "python3"
  },
  "language_info": {
   "codemirror_mode": {
    "name": "ipython",
    "version": 3
   },
   "file_extension": ".py",
   "mimetype": "text/x-python",
   "name": "python",
   "nbconvert_exporter": "python",
   "pygments_lexer": "ipython3",
   "version": "3.11.12"
  }
 },
 "nbformat": 4,
 "nbformat_minor": 5
}
