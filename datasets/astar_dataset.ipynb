{
 "cells": [
  {
   "cell_type": "markdown",
   "id": "3e60d34c-2212-4674-a980-55bb18188ada",
   "metadata": {},
   "source": [
    "# Astar dataset\n",
    "\n",
    "The puprose of this dataset is to explore learning end to end the Astar algorithm from scratch.\n",
    "This dataset provides the enviroment defined as a grid, where:\n",
    "- 0 indicates free space, and 1 indicates obstacle.\n",
    "- Not all enviroments have a solution.\n",
    "- The solution is defined as a sequence of actions, where:\n",
    "   0 -> up, 1 -> right, 2 -> down, 3 -> left\n",
    "- The solution is given as a series of actions [0, 1, 0, 2]\n",
    "\n",
    "## The input\n",
    "\n",
    "The input will be of the shape N x M containing the environment, along with starting and ending positions. The starting and ending positions must be on a free cell.\n",
    "\n",
    "\n",
    "## The output\n",
    "The output will be:\n",
    "- Binary bit inidicating whether a solution is possible\n",
    "- Sequence of actions indicating the solution\n",
    "\n",
    "\n",
    "There are 2 problems that this dataset can help solve:\n",
    "1. Whether a solution exits or not (completeness)\n",
    "2. Finiding the optimal solution if it exists"
   ]
  },
  {
   "cell_type": "code",
   "execution_count": 2,
   "id": "c9ff6e89-9e6e-4767-a9bc-24349887e93c",
   "metadata": {},
   "outputs": [
    {
     "name": "stdout",
     "output_type": "stream",
     "text": [
      "[[0 0 0 1 0 0 0 0 0 0]\n",
      " [0 0 0 0 1 0 1 0 0 1]\n",
      " [0 0 0 0 0 0 0 1 0 0]\n",
      " [1 0 0 0 0 0 0 1 0 0]\n",
      " [0 0 1 0 0 0 0 1 0 0]\n",
      " [0 1 0 1 0 0 0 0 0 0]\n",
      " [1 0 0 0 0 0 1 0 0 0]\n",
      " [0 1 0 0 1 0 0 0 1 1]\n",
      " [0 0 0 0 0 0 0 0 0 1]\n",
      " [0 0 0 0 1 0 0 0 0 0]]\n"
     ]
    },
    {
     "data": {
      "text/plain": [
       "<matplotlib.collections.PathCollection at 0x7f9206c7f310>"
      ]
     },
     "execution_count": 2,
     "metadata": {},
     "output_type": "execute_result"
    },
    {
     "data": {
      "image/png": "[encoded data removed]",
      "text/plain": [
       "<Figure size 640x480 with 1 Axes>"
      ]
     },
     "metadata": {},
     "output_type": "display_data"
    }
   ],
   "source": [
    "import numpy as np\n",
    "import matplotlib.pyplot as plt\n",
    "\n",
    "\n",
    "# Assume grid is already defined\n",
    "n, m = 10, 10  # example size\n",
    "grid = np.random.choice([0, 1], size=(n, m), p=[0.8, 0.2])\n",
    "\n",
    "print(grid)\n",
    "plt.imshow(grid, cmap='RdYlGn', interpolation='nearest')\n",
    "zero_positions = np.argwhere(grid == 0)\n",
    "random_index = np.random.choice(len(zero_positions))\n",
    "random_zero_pos = tuple(zero_positions[random_index])\n",
    "    \n",
    "plt.scatter(random_zero_pos[1], random_zero_pos[0], color='blue', s=100, label='Random Zero Position')\n"
   ]
  }
 ],
 "metadata": {
  "kernelspec": {
   "display_name": "Python 3 (ipykernel)",
   "language": "python",
   "name": "python3"
  },
  "language_info": {
   "codemirror_mode": {
    "name": "ipython",
    "version": 3
   },
   "file_extension": ".py",
   "mimetype": "text/x-python",
   "name": "python",
   "nbconvert_exporter": "python",
   "pygments_lexer": "ipython3",
   "version": "3.11.12"
  }
 },
 "nbformat": 4,
 "nbformat_minor": 5
}
