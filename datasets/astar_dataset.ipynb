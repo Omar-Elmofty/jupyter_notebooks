{
 "cells": [
  {
   "cell_type": "markdown",
   "id": "3e60d34c-2212-4674-a980-55bb18188ada",
   "metadata": {},
   "source": [
    "# Astar dataset\n",
    "\n",
    "The puprose of this dataset is to explore learning end to end the Astar algorithm from scratch.\n",
    "This dataset provides the enviroment defined as a grid, where:\n",
    "- 0 indicates free space, and 1 indicates obstacle.\n",
    "- Not all enviroments have a solution.\n",
    "- The solution is defined as a sequence of actions, where:\n",
    "   0 -> up, 1 -> right, 2 -> down, 3 -> left\n",
    "- The solution is given as a series of actions [0, 1, 0, 2]\n",
    "\n",
    "## The input\n",
    "\n",
    "The input is of the shape 3 x n x m, where:\n",
    "- n: height of the grid for planning\n",
    "- m: width of the grid for planning\n",
    "- The 3 nxm grids are: 1. The grid representing the environment, 2. The one hot encoded vector representing the start, 3. The one hot encoded vector representing the goal\n",
    "\n",
    "## The output\n",
    "The output will be 5 classes:\n",
    "- Move up (0)\n",
    "- Move down (1)\n",
    "- Move left (2)\n",
    "- Move right (3)\n",
    "- Do nothing (4) (no solution exists)\n",
    "The problem can be treated as a classification problem, where each of the above actions can have a specific probability.\n",
    "\n",
    "\n",
    "There are 2 problems that this dataset can help solve:\n",
    "1. Whether a solution exits or not (completeness)\n",
    "2. Finiding the optimal solution if it exists"
   ]
  },
  {
   "cell_type": "code",
   "execution_count": null,
   "id": "ea0afdf1-ff08-452c-a184-8aca7072344f",
   "metadata": {},
   "outputs": [],
   "source": [
    "# Set the grid size here\n",
    "n, m = 10, 10  # grid size for the problem\n",
    "N = 10000      # Number of examples\n",
    "\n",
    "# Probability of existence of obstacle\n",
    "obstacle_probability = 0.2"
   ]
  },
  {
   "cell_type": "code",
   "execution_count": null,
   "id": "7b2c0026-61ad-4578-a037-fba6088dd330",
   "metadata": {},
   "outputs": [],
   "source": [
    "from datasets.astar_dataset import make_astar_dataset\n",
    "import time\n",
    "# Create the data set\n",
    "start = time.time()\n",
    "X, y = make_astar_dataset(N, n, m, obstacle_probability)\n",
    "print(f\"Execution time: {time.time() - start:.4f} seconds\")"
   ]
  },
  {
   "cell_type": "code",
   "execution_count": null,
   "id": "ec274cad-7721-4dd8-be26-9bfa7684de97",
   "metadata": {},
   "outputs": [],
   "source": [
    "from astar_dataset import plot_instance\n",
    "print(y[1])\n",
    "plot_instance(X[1])"
   ]
  },
  {
   "cell_type": "markdown",
   "id": "c5429de3-b49b-49bb-9f29-439f546990aa",
   "metadata": {},
   "source": [
    "# TODO:\n",
    "1. Make the label distribution uniform, use data augmentation to do so (rotate the grid .. etc)\n",
    "2. Add more examples where there is no path that could be found"
   ]
  }
 ],
 "metadata": {
  "kernelspec": {
   "display_name": "Python 3 (ipykernel)",
   "language": "python",
   "name": "python3"
  },
  "language_info": {
   "codemirror_mode": {
    "name": "ipython",
    "version": 3
   },
   "file_extension": ".py",
   "mimetype": "text/x-python",
   "name": "python",
   "nbconvert_exporter": "python",
   "pygments_lexer": "ipython3",
   "version": "3.11.12"
  }
 },
 "nbformat": 4,
 "nbformat_minor": 5
}
