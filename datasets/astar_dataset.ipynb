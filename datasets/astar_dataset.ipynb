{
 "cells": [
  {
   "cell_type": "markdown",
   "id": "3e60d34c-2212-4674-a980-55bb18188ada",
   "metadata": {},
   "source": [
    "# Astar dataset\n",
    "\n",
    "The puprose of this dataset is to explore learning end to end the Astar algorithm from scratch.\n",
    "This dataset provides the enviroment defined as a grid, where:\n",
    "- 0 indicates free space, and 1 indicates obstacle.\n",
    "- Not all enviroments have a solution.\n",
    "- The solution is defined as a sequence of actions, where:\n",
    "   0 -> up, 1 -> right, 2 -> down, 3 -> left\n",
    "- The solution is given as a series of actions [0, 1, 0, 2]\n",
    "\n",
    "## The input\n",
    "\n",
    "The input is of the shape 3 x n x m, where:\n",
    "- n: height of the grid for planning\n",
    "- m: width of the grid for planning\n",
    "- The 3 nxm grids are: 1. The grid representing the environment, 2. The one hot encoded vector representing the start, 3. The one hot encoded vector representing the goal\n",
    "\n",
    "## The output\n",
    "The output will be 5 classes:\n",
    "- Move up (0)\n",
    "- Move left (1)\n",
    "- Move down (2)\n",
    "- Move right (3)\n",
    "- Do nothing (4) (no solution exists)\n",
    "The problem can be treated as a classification problem, where each of the above actions can have a specific probability.\n",
    "\n",
    "\n",
    "There are 2 problems that this dataset can help solve:\n",
    "1. Whether a solution exits or not (completeness)\n",
    "2. Finiding the optimal solution if it exists"
   ]
  },
  {
   "cell_type": "code",
   "execution_count": 17,
   "id": "ea0afdf1-ff08-452c-a184-8aca7072344f",
   "metadata": {},
   "outputs": [],
   "source": [
    "# Set the grid size here\n",
    "n, m = 10, 10  # grid size for the problem\n",
    "N = 100000     # Number of examples\n",
    "\n",
    "# Probability of existence of obstacle\n",
    "obstacle_probability = 0.3"
   ]
  },
  {
   "cell_type": "code",
   "execution_count": 18,
   "id": "7b2c0026-61ad-4578-a037-fba6088dd330",
   "metadata": {},
   "outputs": [
    {
     "name": "stdout",
     "output_type": "stream",
     "text": [
      "Execution time: 9.0064 seconds\n"
     ]
    }
   ],
   "source": [
    "from datasets.astar_dataset import make_astar_dataset\n",
    "import time\n",
    "# Create the data set\n",
    "start = time.time()\n",
    "X, y = make_astar_dataset(N, n, m, obstacle_probability)\n",
    "print(f\"Execution time: {time.time() - start:.4f} seconds\")"
   ]
  },
  {
   "cell_type": "code",
   "execution_count": 19,
   "id": "ec274cad-7721-4dd8-be26-9bfa7684de97",
   "metadata": {},
   "outputs": [
    {
     "name": "stdout",
     "output_type": "stream",
     "text": [
      "[0. 0. 0. 0. 1.]\n"
     ]
    },
    {
     "data": {
      "image/png": "[encoded data removed]",
      "text/plain": [
       "<Figure size 640x480 with 1 Axes>"
      ]
     },
     "metadata": {},
     "output_type": "display_data"
    }
   ],
   "source": [
    "from astar_dataset import plot_instance\n",
    "import numpy as np\n",
    "index = 0 + 2500 * 0\n",
    "print(y[index])\n",
    "plot_instance(X[index])\n"
   ]
  },
  {
   "cell_type": "code",
   "execution_count": 20,
   "id": "efe279e0-084a-4bdc-9bb9-47d7fa04affb",
   "metadata": {},
   "outputs": [
    {
     "data": {
      "text/html": [
       "<div>\n",
       "<style scoped>\n",
       "    .dataframe tbody tr th:only-of-type {\n",
       "        vertical-align: middle;\n",
       "    }\n",
       "\n",
       "    .dataframe tbody tr th {\n",
       "        vertical-align: top;\n",
       "    }\n",
       "\n",
       "    .dataframe thead th {\n",
       "        text-align: right;\n",
       "    }\n",
       "</style>\n",
       "<table border=\"1\" class=\"dataframe\">\n",
       "  <thead>\n",
       "    <tr style=\"text-align: right;\">\n",
       "      <th></th>\n",
       "      <th>0</th>\n",
       "      <th>1</th>\n",
       "      <th>2</th>\n",
       "      <th>3</th>\n",
       "      <th>4</th>\n",
       "    </tr>\n",
       "  </thead>\n",
       "  <tbody>\n",
       "    <tr>\n",
       "      <th>count</th>\n",
       "      <td>100000.000000</td>\n",
       "      <td>100000.000000</td>\n",
       "      <td>100000.000000</td>\n",
       "      <td>100000.000000</td>\n",
       "      <td>100000.000000</td>\n",
       "    </tr>\n",
       "    <tr>\n",
       "      <th>mean</th>\n",
       "      <td>0.201680</td>\n",
       "      <td>0.201680</td>\n",
       "      <td>0.201680</td>\n",
       "      <td>0.201680</td>\n",
       "      <td>0.193280</td>\n",
       "    </tr>\n",
       "    <tr>\n",
       "      <th>std</th>\n",
       "      <td>0.401257</td>\n",
       "      <td>0.401257</td>\n",
       "      <td>0.401257</td>\n",
       "      <td>0.401257</td>\n",
       "      <td>0.394873</td>\n",
       "    </tr>\n",
       "    <tr>\n",
       "      <th>min</th>\n",
       "      <td>0.000000</td>\n",
       "      <td>0.000000</td>\n",
       "      <td>0.000000</td>\n",
       "      <td>0.000000</td>\n",
       "      <td>0.000000</td>\n",
       "    </tr>\n",
       "    <tr>\n",
       "      <th>25%</th>\n",
       "      <td>0.000000</td>\n",
       "      <td>0.000000</td>\n",
       "      <td>0.000000</td>\n",
       "      <td>0.000000</td>\n",
       "      <td>0.000000</td>\n",
       "    </tr>\n",
       "    <tr>\n",
       "      <th>50%</th>\n",
       "      <td>0.000000</td>\n",
       "      <td>0.000000</td>\n",
       "      <td>0.000000</td>\n",
       "      <td>0.000000</td>\n",
       "      <td>0.000000</td>\n",
       "    </tr>\n",
       "    <tr>\n",
       "      <th>75%</th>\n",
       "      <td>0.000000</td>\n",
       "      <td>0.000000</td>\n",
       "      <td>0.000000</td>\n",
       "      <td>0.000000</td>\n",
       "      <td>0.000000</td>\n",
       "    </tr>\n",
       "    <tr>\n",
       "      <th>max</th>\n",
       "      <td>1.000000</td>\n",
       "      <td>1.000000</td>\n",
       "      <td>1.000000</td>\n",
       "      <td>1.000000</td>\n",
       "      <td>1.000000</td>\n",
       "    </tr>\n",
       "  </tbody>\n",
       "</table>\n",
       "</div>"
      ],
      "text/plain": [
       "                   0              1              2              3  \\\n",
       "count  100000.000000  100000.000000  100000.000000  100000.000000   \n",
       "mean        0.201680       0.201680       0.201680       0.201680   \n",
       "std         0.401257       0.401257       0.401257       0.401257   \n",
       "min         0.000000       0.000000       0.000000       0.000000   \n",
       "25%         0.000000       0.000000       0.000000       0.000000   \n",
       "50%         0.000000       0.000000       0.000000       0.000000   \n",
       "75%         0.000000       0.000000       0.000000       0.000000   \n",
       "max         1.000000       1.000000       1.000000       1.000000   \n",
       "\n",
       "                   4  \n",
       "count  100000.000000  \n",
       "mean        0.193280  \n",
       "std         0.394873  \n",
       "min         0.000000  \n",
       "25%         0.000000  \n",
       "50%         0.000000  \n",
       "75%         0.000000  \n",
       "max         1.000000  "
      ]
     },
     "execution_count": 20,
     "metadata": {},
     "output_type": "execute_result"
    }
   ],
   "source": [
    "import pandas as pd\n",
    "\n",
    "# Print the statistics of each class label\n",
    "y_df = pd.DataFrame(y)  # Convert y to a pandas Series if it's not already\n",
    "y_df.describe()"
   ]
  },
  {
   "cell_type": "markdown",
   "id": "adefd253-7d14-4135-9faf-ee1511608301",
   "metadata": {},
   "source": [
    "The above shows each class label, not how the mean for each label is the same, that means that we have good representation of each class label."
   ]
  }
 ],
 "metadata": {
  "kernelspec": {
   "display_name": "Python 3 (ipykernel)",
   "language": "python",
   "name": "python3"
  },
  "language_info": {
   "codemirror_mode": {
    "name": "ipython",
    "version": 3
   },
   "file_extension": ".py",
   "mimetype": "text/x-python",
   "name": "python",
   "nbconvert_exporter": "python",
   "pygments_lexer": "ipython3",
   "version": "3.11.12"
  }
 },
 "nbformat": 4,
 "nbformat_minor": 5
}
